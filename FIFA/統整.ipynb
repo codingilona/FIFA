{
  "cells": [
    {
      "cell_type": "markdown",
      "metadata": {
        "id": "ZOrUuLsheYNx"
      },
      "source": []
    },
    {
      "cell_type": "code",
      "execution_count": 1,
      "metadata": {
        "id": "d2_8KClneXR0"
      },
      "outputs": [],
      "source": [
        "import pandas as pd"
      ]
    },
    {
      "cell_type": "code",
      "execution_count": 2,
      "metadata": {
        "colab": {
          "base_uri": "https://localhost:8080/",
          "height": 206
        },
        "id": "ahg4Xovhd0SM",
        "outputId": "4ee43079-2f14-400d-d42b-cc29ecb6cc33"
      },
      "outputs": [
        {
          "data": {
            "text/html": [
              "<div>\n",
              "<style scoped>\n",
              "    .dataframe tbody tr th:only-of-type {\n",
              "        vertical-align: middle;\n",
              "    }\n",
              "\n",
              "    .dataframe tbody tr th {\n",
              "        vertical-align: top;\n",
              "    }\n",
              "\n",
              "    .dataframe thead th {\n",
              "        text-align: right;\n",
              "    }\n",
              "</style>\n",
              "<table border=\"1\" class=\"dataframe\">\n",
              "  <thead>\n",
              "    <tr style=\"text-align: right;\">\n",
              "      <th></th>\n",
              "      <th>Year</th>\n",
              "      <th>Country</th>\n",
              "      <th>No.</th>\n",
              "      <th>Name</th>\n",
              "      <th>Age</th>\n",
              "      <th>Height</th>\n",
              "      <th>International Matches</th>\n",
              "      <th>Goals</th>\n",
              "      <th>Worth</th>\n",
              "    </tr>\n",
              "  </thead>\n",
              "  <tbody>\n",
              "    <tr>\n",
              "      <th>0</th>\n",
              "      <td>2018.0</td>\n",
              "      <td>France</td>\n",
              "      <td>1.0</td>\n",
              "      <td>Hugo Lloris</td>\n",
              "      <td>31.0</td>\n",
              "      <td>188.0</td>\n",
              "      <td>142.0</td>\n",
              "      <td>0.0</td>\n",
              "      <td>25.0</td>\n",
              "    </tr>\n",
              "    <tr>\n",
              "      <th>1</th>\n",
              "      <td>2018.0</td>\n",
              "      <td>France</td>\n",
              "      <td>2.0</td>\n",
              "      <td>Benjamin Pavard</td>\n",
              "      <td>22.0</td>\n",
              "      <td>186.0</td>\n",
              "      <td>47.0</td>\n",
              "      <td>2.0</td>\n",
              "      <td>30.0</td>\n",
              "    </tr>\n",
              "    <tr>\n",
              "      <th>2</th>\n",
              "      <td>2018.0</td>\n",
              "      <td>France</td>\n",
              "      <td>3.0</td>\n",
              "      <td>Presnel Kimpembe</td>\n",
              "      <td>22.0</td>\n",
              "      <td>183.0</td>\n",
              "      <td>28.0</td>\n",
              "      <td>0.0</td>\n",
              "      <td>30.0</td>\n",
              "    </tr>\n",
              "    <tr>\n",
              "      <th>3</th>\n",
              "      <td>2018.0</td>\n",
              "      <td>France</td>\n",
              "      <td>4.0</td>\n",
              "      <td>Raphaël Varane</td>\n",
              "      <td>25.0</td>\n",
              "      <td>191.0</td>\n",
              "      <td>90.0</td>\n",
              "      <td>5.0</td>\n",
              "      <td>70.0</td>\n",
              "    </tr>\n",
              "    <tr>\n",
              "      <th>4</th>\n",
              "      <td>2018.0</td>\n",
              "      <td>France</td>\n",
              "      <td>5.0</td>\n",
              "      <td>Samuel Umtiti</td>\n",
              "      <td>24.0</td>\n",
              "      <td>182.0</td>\n",
              "      <td>31.0</td>\n",
              "      <td>4.0</td>\n",
              "      <td>60.0</td>\n",
              "    </tr>\n",
              "  </tbody>\n",
              "</table>\n",
              "</div>"
            ],
            "text/plain": [
              "     Year Country  No.              Name   Age  Height  International Matches  \\\n",
              "0  2018.0  France  1.0       Hugo Lloris  31.0   188.0                  142.0   \n",
              "1  2018.0  France  2.0   Benjamin Pavard  22.0   186.0                   47.0   \n",
              "2  2018.0  France  3.0  Presnel Kimpembe  22.0   183.0                   28.0   \n",
              "3  2018.0  France  4.0    Raphaël Varane  25.0   191.0                   90.0   \n",
              "4  2018.0  France  5.0     Samuel Umtiti  24.0   182.0                   31.0   \n",
              "\n",
              "   Goals  Worth  \n",
              "0    0.0   25.0  \n",
              "1    2.0   30.0  \n",
              "2    0.0   30.0  \n",
              "3    5.0   70.0  \n",
              "4    4.0   60.0  "
            ]
          },
          "execution_count": 2,
          "metadata": {},
          "output_type": "execute_result"
        }
      ],
      "source": [
        "pr=pd.read_excel('Predict.xlsx')\n",
        "pr.head()"
      ]
    },
    {
      "cell_type": "code",
      "execution_count": 3,
      "metadata": {
        "id": "rCZ9qlENfEgD"
      },
      "outputs": [],
      "source": [
        "amean=pr['Age'].mean()\n",
        "astd=pr['Age'].std()\n",
        "hmean=pr['Height'].mean()\n",
        "hstd=pr['Height'].std()\n",
        "gmean=pr['Goals'].mean()\n",
        "gstd=pr['Goals'].std()\n"
      ]
    },
    {
      "cell_type": "code",
      "execution_count": 4,
      "metadata": {
        "id": "UBYKUNXbgTp5"
      },
      "outputs": [],
      "source": [
        "worth=pr['Worth'].dropna()\n",
        "wmean=worth.mean()\n",
        "wstd=worth.std()"
      ]
    },
    {
      "cell_type": "code",
      "execution_count": 5,
      "metadata": {
        "colab": {
          "base_uri": "https://localhost:8080/",
          "height": 206
        },
        "id": "Vi9dHSeqfexN",
        "outputId": "03d653eb-6e15-4a2a-d3ab-5cdf1111acd9"
      },
      "outputs": [
        {
          "data": {
            "text/html": [
              "<div>\n",
              "<style scoped>\n",
              "    .dataframe tbody tr th:only-of-type {\n",
              "        vertical-align: middle;\n",
              "    }\n",
              "\n",
              "    .dataframe tbody tr th {\n",
              "        vertical-align: top;\n",
              "    }\n",
              "\n",
              "    .dataframe thead th {\n",
              "        text-align: right;\n",
              "    }\n",
              "</style>\n",
              "<table border=\"1\" class=\"dataframe\">\n",
              "  <thead>\n",
              "    <tr style=\"text-align: right;\">\n",
              "      <th></th>\n",
              "      <th>GROUP</th>\n",
              "      <th>COUNTRY</th>\n",
              "      <th>NO.</th>\n",
              "      <th>NAME</th>\n",
              "      <th>POSITION</th>\n",
              "      <th>HEIGHT</th>\n",
              "      <th>WORTH (€)</th>\n",
              "      <th>BIRTH</th>\n",
              "      <th>AGE</th>\n",
              "      <th>CLUB</th>\n",
              "      <th>...</th>\n",
              "      <th>Unnamed: 21</th>\n",
              "      <th>Unnamed: 22</th>\n",
              "      <th>Unnamed: 23</th>\n",
              "      <th>Unnamed: 24</th>\n",
              "      <th>Unnamed: 25</th>\n",
              "      <th>Unnamed: 26</th>\n",
              "      <th>Unnamed: 27</th>\n",
              "      <th>Unnamed: 28</th>\n",
              "      <th>Unnamed: 29</th>\n",
              "      <th>FIFA HIGHEST LEVEL</th>\n",
              "    </tr>\n",
              "  </thead>\n",
              "  <tbody>\n",
              "    <tr>\n",
              "      <th>0</th>\n",
              "      <td>A</td>\n",
              "      <td>QATAR</td>\n",
              "      <td>1</td>\n",
              "      <td>Saad Al Sheeb</td>\n",
              "      <td>GK</td>\n",
              "      <td>185</td>\n",
              "      <td>0.2M</td>\n",
              "      <td>1990.02.19</td>\n",
              "      <td>32</td>\n",
              "      <td>Al-Sadd</td>\n",
              "      <td>...</td>\n",
              "      <td>NaN</td>\n",
              "      <td>NaN</td>\n",
              "      <td>NaN</td>\n",
              "      <td>NaN</td>\n",
              "      <td>NaN</td>\n",
              "      <td>NaN</td>\n",
              "      <td>NaN</td>\n",
              "      <td>NaN</td>\n",
              "      <td>NaN</td>\n",
              "      <td>90.0</td>\n",
              "    </tr>\n",
              "    <tr>\n",
              "      <th>1</th>\n",
              "      <td>A</td>\n",
              "      <td>QATAR</td>\n",
              "      <td>21</td>\n",
              "      <td>Yousef Hassan</td>\n",
              "      <td>GK</td>\n",
              "      <td>186</td>\n",
              "      <td>0.15M</td>\n",
              "      <td>1996.05.24</td>\n",
              "      <td>26</td>\n",
              "      <td>Al-Gharafa</td>\n",
              "      <td>...</td>\n",
              "      <td>NaN</td>\n",
              "      <td>NaN</td>\n",
              "      <td>NaN</td>\n",
              "      <td>NaN</td>\n",
              "      <td>NaN</td>\n",
              "      <td>NaN</td>\n",
              "      <td>NaN</td>\n",
              "      <td>NaN</td>\n",
              "      <td>NaN</td>\n",
              "      <td>65.0</td>\n",
              "    </tr>\n",
              "    <tr>\n",
              "      <th>2</th>\n",
              "      <td>A</td>\n",
              "      <td>QATAR</td>\n",
              "      <td>22</td>\n",
              "      <td>Meshaal Barsham</td>\n",
              "      <td>GK</td>\n",
              "      <td>178</td>\n",
              "      <td>0.45M</td>\n",
              "      <td>1998.02.14</td>\n",
              "      <td>24</td>\n",
              "      <td>Al-Sadd</td>\n",
              "      <td>...</td>\n",
              "      <td>NaN</td>\n",
              "      <td>NaN</td>\n",
              "      <td>NaN</td>\n",
              "      <td>NaN</td>\n",
              "      <td>NaN</td>\n",
              "      <td>NaN</td>\n",
              "      <td>NaN</td>\n",
              "      <td>NaN</td>\n",
              "      <td>NaN</td>\n",
              "      <td>65.0</td>\n",
              "    </tr>\n",
              "    <tr>\n",
              "      <th>3</th>\n",
              "      <td>A</td>\n",
              "      <td>QATAR</td>\n",
              "      <td>2</td>\n",
              "      <td>Ró-Ró</td>\n",
              "      <td>DF</td>\n",
              "      <td>182</td>\n",
              "      <td>0.325M</td>\n",
              "      <td>1990.08.06</td>\n",
              "      <td>32</td>\n",
              "      <td>Al-Sadd</td>\n",
              "      <td>...</td>\n",
              "      <td>NaN</td>\n",
              "      <td>NaN</td>\n",
              "      <td>NaN</td>\n",
              "      <td>NaN</td>\n",
              "      <td>NaN</td>\n",
              "      <td>NaN</td>\n",
              "      <td>NaN</td>\n",
              "      <td>NaN</td>\n",
              "      <td>NaN</td>\n",
              "      <td>69.0</td>\n",
              "    </tr>\n",
              "    <tr>\n",
              "      <th>4</th>\n",
              "      <td>A</td>\n",
              "      <td>QATAR</td>\n",
              "      <td>4</td>\n",
              "      <td>Mohammed Waad</td>\n",
              "      <td>DF</td>\n",
              "      <td>183</td>\n",
              "      <td>0.4M</td>\n",
              "      <td>1999.09.18</td>\n",
              "      <td>23</td>\n",
              "      <td>Al-Sadd</td>\n",
              "      <td>...</td>\n",
              "      <td>NaN</td>\n",
              "      <td>NaN</td>\n",
              "      <td>NaN</td>\n",
              "      <td>NaN</td>\n",
              "      <td>NaN</td>\n",
              "      <td>NaN</td>\n",
              "      <td>NaN</td>\n",
              "      <td>NaN</td>\n",
              "      <td>NaN</td>\n",
              "      <td>65.0</td>\n",
              "    </tr>\n",
              "  </tbody>\n",
              "</table>\n",
              "<p>5 rows × 31 columns</p>\n",
              "</div>"
            ],
            "text/plain": [
              "  GROUP COUNTRY  NO.             NAME POSITION  HEIGHT WORTH (€)       BIRTH  \\\n",
              "0     A   QATAR    1    Saad Al Sheeb       GK     185      0.2M  1990.02.19   \n",
              "1     A   QATAR   21    Yousef Hassan       GK     186     0.15M  1996.05.24   \n",
              "2     A   QATAR   22  Meshaal Barsham       GK     178     0.45M  1998.02.14   \n",
              "3     A   QATAR    2            Ró-Ró       DF     182    0.325M  1990.08.06   \n",
              "4     A   QATAR    4    Mohammed Waad       DF     183      0.4M  1999.09.18   \n",
              "\n",
              "   AGE        CLUB  ... Unnamed: 21  Unnamed: 22  Unnamed: 23  Unnamed: 24  \\\n",
              "0   32     Al-Sadd  ...         NaN          NaN          NaN          NaN   \n",
              "1   26  Al-Gharafa  ...         NaN          NaN          NaN          NaN   \n",
              "2   24     Al-Sadd  ...         NaN          NaN          NaN          NaN   \n",
              "3   32     Al-Sadd  ...         NaN          NaN          NaN          NaN   \n",
              "4   23     Al-Sadd  ...         NaN          NaN          NaN          NaN   \n",
              "\n",
              "   Unnamed: 25  Unnamed: 26  Unnamed: 27  Unnamed: 28  Unnamed: 29  \\\n",
              "0          NaN          NaN          NaN          NaN          NaN   \n",
              "1          NaN          NaN          NaN          NaN          NaN   \n",
              "2          NaN          NaN          NaN          NaN          NaN   \n",
              "3          NaN          NaN          NaN          NaN          NaN   \n",
              "4          NaN          NaN          NaN          NaN          NaN   \n",
              "\n",
              "   FIFA HIGHEST LEVEL  \n",
              "0                90.0  \n",
              "1                65.0  \n",
              "2                65.0  \n",
              "3                69.0  \n",
              "4                65.0  \n",
              "\n",
              "[5 rows x 31 columns]"
            ]
          },
          "execution_count": 5,
          "metadata": {},
          "output_type": "execute_result"
        }
      ],
      "source": [
        "df=pd.read_excel('FIFA WORLD CUP.xlsx')\n",
        "df.head()"
      ]
    },
    {
      "cell_type": "code",
      "execution_count": 6,
      "metadata": {
        "id": "uubfiXLw-jij"
      },
      "outputs": [],
      "source": [
        "def seq(x,y,z):\n",
        "\n",
        "   x=x-z\n",
        "   sequence=pd.DataFrame(data=x,index=y,columns=['error'])\n",
        "   sequence.insert(1,'scores',sequence.rank(ascending=True))\n",
        "     \n",
        "   return sequence"
      ]
    },
    {
      "cell_type": "code",
      "execution_count": 7,
      "metadata": {
        "colab": {
          "base_uri": "https://localhost:8080/",
          "height": 206
        },
        "id": "tgpzwpfshZue",
        "outputId": "403f9d57-f2b6-4400-bea1-d66a30642e5f"
      },
      "outputs": [
        {
          "data": {
            "text/html": [
              "<div>\n",
              "<style scoped>\n",
              "    .dataframe tbody tr th:only-of-type {\n",
              "        vertical-align: middle;\n",
              "    }\n",
              "\n",
              "    .dataframe tbody tr th {\n",
              "        vertical-align: top;\n",
              "    }\n",
              "\n",
              "    .dataframe thead th {\n",
              "        text-align: right;\n",
              "    }\n",
              "</style>\n",
              "<table border=\"1\" class=\"dataframe\">\n",
              "  <thead>\n",
              "    <tr style=\"text-align: right;\">\n",
              "      <th></th>\n",
              "      <th>GROUP</th>\n",
              "      <th>COUNTRY</th>\n",
              "      <th>NO.</th>\n",
              "      <th>NAME</th>\n",
              "      <th>POSITION</th>\n",
              "      <th>HEIGHT</th>\n",
              "      <th>WORTH (€)</th>\n",
              "      <th>BIRTH</th>\n",
              "      <th>AGE</th>\n",
              "      <th>CLUB</th>\n",
              "      <th>...</th>\n",
              "      <th>Unnamed: 21</th>\n",
              "      <th>Unnamed: 22</th>\n",
              "      <th>Unnamed: 23</th>\n",
              "      <th>Unnamed: 24</th>\n",
              "      <th>Unnamed: 25</th>\n",
              "      <th>Unnamed: 26</th>\n",
              "      <th>Unnamed: 27</th>\n",
              "      <th>Unnamed: 28</th>\n",
              "      <th>Unnamed: 29</th>\n",
              "      <th>FIFA HIGHEST LEVEL</th>\n",
              "    </tr>\n",
              "  </thead>\n",
              "  <tbody>\n",
              "    <tr>\n",
              "      <th>0</th>\n",
              "      <td>A</td>\n",
              "      <td>QATAR</td>\n",
              "      <td>1</td>\n",
              "      <td>Saad Al Sheeb</td>\n",
              "      <td>GK</td>\n",
              "      <td>185</td>\n",
              "      <td>0.200</td>\n",
              "      <td>1990.02.19</td>\n",
              "      <td>32</td>\n",
              "      <td>Al-Sadd</td>\n",
              "      <td>...</td>\n",
              "      <td>NaN</td>\n",
              "      <td>NaN</td>\n",
              "      <td>NaN</td>\n",
              "      <td>NaN</td>\n",
              "      <td>NaN</td>\n",
              "      <td>NaN</td>\n",
              "      <td>NaN</td>\n",
              "      <td>NaN</td>\n",
              "      <td>NaN</td>\n",
              "      <td>90.0</td>\n",
              "    </tr>\n",
              "    <tr>\n",
              "      <th>1</th>\n",
              "      <td>A</td>\n",
              "      <td>QATAR</td>\n",
              "      <td>21</td>\n",
              "      <td>Yousef Hassan</td>\n",
              "      <td>GK</td>\n",
              "      <td>186</td>\n",
              "      <td>0.150</td>\n",
              "      <td>1996.05.24</td>\n",
              "      <td>26</td>\n",
              "      <td>Al-Gharafa</td>\n",
              "      <td>...</td>\n",
              "      <td>NaN</td>\n",
              "      <td>NaN</td>\n",
              "      <td>NaN</td>\n",
              "      <td>NaN</td>\n",
              "      <td>NaN</td>\n",
              "      <td>NaN</td>\n",
              "      <td>NaN</td>\n",
              "      <td>NaN</td>\n",
              "      <td>NaN</td>\n",
              "      <td>65.0</td>\n",
              "    </tr>\n",
              "    <tr>\n",
              "      <th>2</th>\n",
              "      <td>A</td>\n",
              "      <td>QATAR</td>\n",
              "      <td>22</td>\n",
              "      <td>Meshaal Barsham</td>\n",
              "      <td>GK</td>\n",
              "      <td>178</td>\n",
              "      <td>0.450</td>\n",
              "      <td>1998.02.14</td>\n",
              "      <td>24</td>\n",
              "      <td>Al-Sadd</td>\n",
              "      <td>...</td>\n",
              "      <td>NaN</td>\n",
              "      <td>NaN</td>\n",
              "      <td>NaN</td>\n",
              "      <td>NaN</td>\n",
              "      <td>NaN</td>\n",
              "      <td>NaN</td>\n",
              "      <td>NaN</td>\n",
              "      <td>NaN</td>\n",
              "      <td>NaN</td>\n",
              "      <td>65.0</td>\n",
              "    </tr>\n",
              "    <tr>\n",
              "      <th>3</th>\n",
              "      <td>A</td>\n",
              "      <td>QATAR</td>\n",
              "      <td>2</td>\n",
              "      <td>Ró-Ró</td>\n",
              "      <td>DF</td>\n",
              "      <td>182</td>\n",
              "      <td>0.325</td>\n",
              "      <td>1990.08.06</td>\n",
              "      <td>32</td>\n",
              "      <td>Al-Sadd</td>\n",
              "      <td>...</td>\n",
              "      <td>NaN</td>\n",
              "      <td>NaN</td>\n",
              "      <td>NaN</td>\n",
              "      <td>NaN</td>\n",
              "      <td>NaN</td>\n",
              "      <td>NaN</td>\n",
              "      <td>NaN</td>\n",
              "      <td>NaN</td>\n",
              "      <td>NaN</td>\n",
              "      <td>69.0</td>\n",
              "    </tr>\n",
              "    <tr>\n",
              "      <th>4</th>\n",
              "      <td>A</td>\n",
              "      <td>QATAR</td>\n",
              "      <td>4</td>\n",
              "      <td>Mohammed Waad</td>\n",
              "      <td>DF</td>\n",
              "      <td>183</td>\n",
              "      <td>0.400</td>\n",
              "      <td>1999.09.18</td>\n",
              "      <td>23</td>\n",
              "      <td>Al-Sadd</td>\n",
              "      <td>...</td>\n",
              "      <td>NaN</td>\n",
              "      <td>NaN</td>\n",
              "      <td>NaN</td>\n",
              "      <td>NaN</td>\n",
              "      <td>NaN</td>\n",
              "      <td>NaN</td>\n",
              "      <td>NaN</td>\n",
              "      <td>NaN</td>\n",
              "      <td>NaN</td>\n",
              "      <td>65.0</td>\n",
              "    </tr>\n",
              "  </tbody>\n",
              "</table>\n",
              "<p>5 rows × 31 columns</p>\n",
              "</div>"
            ],
            "text/plain": [
              "  GROUP COUNTRY  NO.             NAME POSITION  HEIGHT  WORTH (€)       BIRTH  \\\n",
              "0     A   QATAR    1    Saad Al Sheeb       GK     185      0.200  1990.02.19   \n",
              "1     A   QATAR   21    Yousef Hassan       GK     186      0.150  1996.05.24   \n",
              "2     A   QATAR   22  Meshaal Barsham       GK     178      0.450  1998.02.14   \n",
              "3     A   QATAR    2            Ró-Ró       DF     182      0.325  1990.08.06   \n",
              "4     A   QATAR    4    Mohammed Waad       DF     183      0.400  1999.09.18   \n",
              "\n",
              "   AGE        CLUB  ... Unnamed: 21  Unnamed: 22  Unnamed: 23  Unnamed: 24  \\\n",
              "0   32     Al-Sadd  ...         NaN          NaN          NaN          NaN   \n",
              "1   26  Al-Gharafa  ...         NaN          NaN          NaN          NaN   \n",
              "2   24     Al-Sadd  ...         NaN          NaN          NaN          NaN   \n",
              "3   32     Al-Sadd  ...         NaN          NaN          NaN          NaN   \n",
              "4   23     Al-Sadd  ...         NaN          NaN          NaN          NaN   \n",
              "\n",
              "   Unnamed: 25  Unnamed: 26  Unnamed: 27  Unnamed: 28  Unnamed: 29  \\\n",
              "0          NaN          NaN          NaN          NaN          NaN   \n",
              "1          NaN          NaN          NaN          NaN          NaN   \n",
              "2          NaN          NaN          NaN          NaN          NaN   \n",
              "3          NaN          NaN          NaN          NaN          NaN   \n",
              "4          NaN          NaN          NaN          NaN          NaN   \n",
              "\n",
              "   FIFA HIGHEST LEVEL  \n",
              "0                90.0  \n",
              "1                65.0  \n",
              "2                65.0  \n",
              "3                69.0  \n",
              "4                65.0  \n",
              "\n",
              "[5 rows x 31 columns]"
            ]
          },
          "execution_count": 7,
          "metadata": {},
          "output_type": "execute_result"
        }
      ],
      "source": [
        "df['WORTH (€)'] = df['WORTH (€)'].str.replace('M','')\n",
        "df['WORTH (€)'] = df['WORTH (€)'].astype(float)\n",
        "df.head()"
      ]
    },
    {
      "cell_type": "code",
      "execution_count": 8,
      "metadata": {
        "id": "Wt-tmqZJhhDI"
      },
      "outputs": [],
      "source": [
        "# 國家\n",
        "\n",
        "dfPortugal = df[df['COUNTRY'] == 'Portugal']\n",
        "dfEngland = df[df['COUNTRY'] == 'England']\n",
        "dfFrance = df[df['COUNTRY'] == 'France']\n",
        "dfMorocco = df[df['COUNTRY'] == 'Morocco']\n",
        "dfNetherlands = df[df['COUNTRY'] == 'Netherlands']\n",
        "dfArgentina = df[df['COUNTRY'] == 'Argentina']\n",
        "dfCroatia = df[df['COUNTRY'] == 'Croatia']\n",
        "dfBrazil = df[df['COUNTRY'] == 'Brazil']"
      ]
    },
    {
      "cell_type": "code",
      "execution_count": 9,
      "metadata": {
        "id": "eK2Up-Nuveeb"
      },
      "outputs": [],
      "source": [
        "\n",
        "S=[dfPortugal['PREVIOUS　GOALS'].mean(),dfEngland['PREVIOUS　GOALS'].mean(),dfFrance['PREVIOUS　GOALS'].mean(),dfMorocco['PREVIOUS　GOALS'].mean(),dfNetherlands['PREVIOUS　GOALS'].mean(),dfArgentina['PREVIOUS　GOALS'].mean(),dfCroatia['PREVIOUS　GOALS'].mean(),dfBrazil['PREVIOUS　GOALS'].mean()]\n",
        "W=[dfPortugal ['PREVIOUS　GOALS'].mean(),dfEngland ['WORTH (€)'].mean(),dfFrance ['WORTH (€)'].mean(),dfMorocco ['WORTH (€)'].mean(),dfNetherlands['WORTH (€)'].mean(),dfArgentina['WORTH (€)'].mean(),dfCroatia['WORTH (€)'].mean(),dfBrazil['WORTH (€)'].mean()]\n",
        "C=['Portugal','England','Morocco','France','Netherlands','Argentina','Croatia','Brazil']"
      ]
    },
    {
      "cell_type": "code",
      "execution_count": 11,
      "metadata": {
        "colab": {
          "base_uri": "https://localhost:8080/",
          "height": 300
        },
        "id": "b-FBjebTJyDx",
        "outputId": "65ce2664-2e34-42ba-f7a4-f0036c5cb916"
      },
      "outputs": [
        {
          "ename": "TypeError",
          "evalue": "unsupported operand type(s) for -: 'list' and 'float'",
          "output_type": "error",
          "traceback": [
            "\u001b[0;31m---------------------------------------------------------------------------\u001b[0m",
            "\u001b[0;31mTypeError\u001b[0m                                 Traceback (most recent call last)",
            "\u001b[1;32m/Users/tungyuchen/Desktop/FIFA/統整.ipynb Cell 11'\u001b[0m in \u001b[0;36m<cell line: 1>\u001b[0;34m()\u001b[0m\n\u001b[0;32m----> <a href='vscode-notebook-cell:/Users/tungyuchen/Desktop/FIFA/%E7%B5%B1%E6%95%B4.ipynb#ch0000010?line=0'>1</a>\u001b[0m seq(S,C,gmean)\n",
            "\u001b[1;32m/Users/tungyuchen/Desktop/FIFA/統整.ipynb Cell 7'\u001b[0m in \u001b[0;36mseq\u001b[0;34m(x, y, z)\u001b[0m\n\u001b[1;32m      <a href='vscode-notebook-cell:/Users/tungyuchen/Desktop/FIFA/%E7%B5%B1%E6%95%B4.ipynb#ch0000006?line=0'>1</a>\u001b[0m \u001b[39mdef\u001b[39;00m \u001b[39mseq\u001b[39m(x,y,z):\n\u001b[0;32m----> <a href='vscode-notebook-cell:/Users/tungyuchen/Desktop/FIFA/%E7%B5%B1%E6%95%B4.ipynb#ch0000006?line=2'>3</a>\u001b[0m    x\u001b[39m=\u001b[39mx\u001b[39m-\u001b[39;49mz\n\u001b[1;32m      <a href='vscode-notebook-cell:/Users/tungyuchen/Desktop/FIFA/%E7%B5%B1%E6%95%B4.ipynb#ch0000006?line=3'>4</a>\u001b[0m    sequence\u001b[39m=\u001b[39mpd\u001b[39m.\u001b[39mDataFrame(data\u001b[39m=\u001b[39mx,index\u001b[39m=\u001b[39my,columns\u001b[39m=\u001b[39m[\u001b[39m'\u001b[39m\u001b[39merror\u001b[39m\u001b[39m'\u001b[39m])\n\u001b[1;32m      <a href='vscode-notebook-cell:/Users/tungyuchen/Desktop/FIFA/%E7%B5%B1%E6%95%B4.ipynb#ch0000006?line=4'>5</a>\u001b[0m    sequence\u001b[39m.\u001b[39minsert(\u001b[39m1\u001b[39m,\u001b[39m'\u001b[39m\u001b[39mscores\u001b[39m\u001b[39m'\u001b[39m,sequence\u001b[39m.\u001b[39mrank(ascending\u001b[39m=\u001b[39m\u001b[39mTrue\u001b[39;00m))\n",
            "\u001b[0;31mTypeError\u001b[0m: unsupported operand type(s) for -: 'list' and 'float'"
          ]
        }
      ],
      "source": [
        "seq(S,C,gmean)\n"
      ]
    },
    {
      "cell_type": "code",
      "execution_count": 12,
      "metadata": {
        "colab": {
          "base_uri": "https://localhost:8080/",
          "height": 300
        },
        "id": "KKpWmWriJx72",
        "outputId": "71bc4e53-2924-40ad-b67c-1ae3489e0f95"
      },
      "outputs": [
        {
          "ename": "TypeError",
          "evalue": "unsupported operand type(s) for -: 'list' and 'float'",
          "output_type": "error",
          "traceback": [
            "\u001b[0;31m---------------------------------------------------------------------------\u001b[0m",
            "\u001b[0;31mTypeError\u001b[0m                                 Traceback (most recent call last)",
            "\u001b[1;32m/Users/tungyuchen/Desktop/FIFA/統整.ipynb Cell 12'\u001b[0m in \u001b[0;36m<cell line: 1>\u001b[0;34m()\u001b[0m\n\u001b[0;32m----> <a href='vscode-notebook-cell:/Users/tungyuchen/Desktop/FIFA/%E7%B5%B1%E6%95%B4.ipynb#ch0000011?line=0'>1</a>\u001b[0m seq(W,C,wmean)\n",
            "\u001b[1;32m/Users/tungyuchen/Desktop/FIFA/統整.ipynb Cell 7'\u001b[0m in \u001b[0;36mseq\u001b[0;34m(x, y, z)\u001b[0m\n\u001b[1;32m      <a href='vscode-notebook-cell:/Users/tungyuchen/Desktop/FIFA/%E7%B5%B1%E6%95%B4.ipynb#ch0000006?line=0'>1</a>\u001b[0m \u001b[39mdef\u001b[39;00m \u001b[39mseq\u001b[39m(x,y,z):\n\u001b[0;32m----> <a href='vscode-notebook-cell:/Users/tungyuchen/Desktop/FIFA/%E7%B5%B1%E6%95%B4.ipynb#ch0000006?line=2'>3</a>\u001b[0m    x\u001b[39m=\u001b[39mx\u001b[39m-\u001b[39;49mz\n\u001b[1;32m      <a href='vscode-notebook-cell:/Users/tungyuchen/Desktop/FIFA/%E7%B5%B1%E6%95%B4.ipynb#ch0000006?line=3'>4</a>\u001b[0m    sequence\u001b[39m=\u001b[39mpd\u001b[39m.\u001b[39mDataFrame(data\u001b[39m=\u001b[39mx,index\u001b[39m=\u001b[39my,columns\u001b[39m=\u001b[39m[\u001b[39m'\u001b[39m\u001b[39merror\u001b[39m\u001b[39m'\u001b[39m])\n\u001b[1;32m      <a href='vscode-notebook-cell:/Users/tungyuchen/Desktop/FIFA/%E7%B5%B1%E6%95%B4.ipynb#ch0000006?line=4'>5</a>\u001b[0m    sequence\u001b[39m.\u001b[39minsert(\u001b[39m1\u001b[39m,\u001b[39m'\u001b[39m\u001b[39mscores\u001b[39m\u001b[39m'\u001b[39m,sequence\u001b[39m.\u001b[39mrank(ascending\u001b[39m=\u001b[39m\u001b[39mTrue\u001b[39;00m))\n",
            "\u001b[0;31mTypeError\u001b[0m: unsupported operand type(s) for -: 'list' and 'float'"
          ]
        }
      ],
      "source": [
        "seq(W,C,wmean)"
      ]
    },
    {
      "cell_type": "code",
      "execution_count": 16,
      "metadata": {},
      "outputs": [
        {
          "data": {
            "text/plain": [
              "37.30769230769231"
            ]
          },
          "execution_count": 16,
          "metadata": {},
          "output_type": "execute_result"
        }
      ],
      "source": [
        "dfBrazil = df[df['COUNTRY'] == 'Brazil']\n",
        "dfBrazil['INTERNATIONAL MATCHES'].mean()\n"
      ]
    },
    {
      "cell_type": "code",
      "execution_count": 17,
      "metadata": {},
      "outputs": [
        {
          "data": {
            "text/plain": [
              "38.61538461538461"
            ]
          },
          "execution_count": 17,
          "metadata": {},
          "output_type": "execute_result"
        }
      ],
      "source": [
        "dfCroatia['INTERNATIONAL MATCHES'].mean()"
      ]
    },
    {
      "cell_type": "code",
      "execution_count": 18,
      "metadata": {},
      "outputs": [
        {
          "data": {
            "text/plain": [
              "33.0"
            ]
          },
          "execution_count": 18,
          "metadata": {},
          "output_type": "execute_result"
        }
      ],
      "source": [
        "dfFrance['INTERNATIONAL MATCHES'].mean()"
      ]
    },
    {
      "cell_type": "code",
      "execution_count": 19,
      "metadata": {},
      "outputs": [
        {
          "data": {
            "text/plain": [
              "35.30769230769231"
            ]
          },
          "execution_count": 19,
          "metadata": {},
          "output_type": "execute_result"
        }
      ],
      "source": [
        "dfArgentina['INTERNATIONAL MATCHES'].mean()"
      ]
    },
    {
      "cell_type": "code",
      "execution_count": 20,
      "metadata": {},
      "outputs": [
        {
          "data": {
            "text/plain": [
              "33.07692307692308"
            ]
          },
          "execution_count": 20,
          "metadata": {},
          "output_type": "execute_result"
        }
      ],
      "source": [
        "dfEngland['INTERNATIONAL MATCHES'].mean()"
      ]
    },
    {
      "cell_type": "code",
      "execution_count": 21,
      "metadata": {},
      "outputs": [
        {
          "data": {
            "text/plain": [
              "22.692307692307693"
            ]
          },
          "execution_count": 21,
          "metadata": {},
          "output_type": "execute_result"
        }
      ],
      "source": [
        "dfMorocco['INTERNATIONAL MATCHES'].mean()"
      ]
    },
    {
      "cell_type": "code",
      "execution_count": 22,
      "metadata": {},
      "outputs": [
        {
          "data": {
            "text/plain": [
              "42.26923076923077"
            ]
          },
          "execution_count": 22,
          "metadata": {},
          "output_type": "execute_result"
        }
      ],
      "source": [
        "dfPortugal['INTERNATIONAL MATCHES'].mean()"
      ]
    },
    {
      "cell_type": "code",
      "execution_count": 23,
      "metadata": {},
      "outputs": [
        {
          "data": {
            "text/plain": [
              "26.846153846153847"
            ]
          },
          "execution_count": 23,
          "metadata": {},
          "output_type": "execute_result"
        }
      ],
      "source": [
        "dfNetherlands['INTERNATIONAL MATCHES'].mean()"
      ]
    },
    {
      "cell_type": "code",
      "execution_count": null,
      "metadata": {},
      "outputs": [],
      "source": []
    }
  ],
  "metadata": {
    "colab": {
      "provenance": []
    },
    "kernelspec": {
      "display_name": "Python 3",
      "name": "python3"
    },
    "language_info": {
      "codemirror_mode": {
        "name": "ipython",
        "version": 3
      },
      "file_extension": ".py",
      "mimetype": "text/x-python",
      "name": "python",
      "nbconvert_exporter": "python",
      "pygments_lexer": "ipython3",
      "version": "3.9.12"
    }
  },
  "nbformat": 4,
  "nbformat_minor": 0
}
